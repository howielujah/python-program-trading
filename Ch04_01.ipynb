{
 "cells": [
  {
   "cell_type": "code",
   "execution_count": 1,
   "metadata": {
    "scrolled": true
   },
   "outputs": [
    {
     "name": "stderr",
     "output_type": "stream",
     "text": [
      "/Users/raychung/opt/anaconda3/lib/python3.8/site-packages/shioaji/__init__.py:20: Warning: Mac OS currently don't provide ca module all function about placing order is not working.\n",
      "  warnings.warn(\"Mac OS currently don't provide ca module all function about placing order is not working.\", Warning)\n"
     ]
    }
   ],
   "source": [
    "from database import *\n",
    "from backtest import *"
   ]
  },
  {
   "cell_type": "code",
   "execution_count": null,
   "metadata": {},
   "outputs": [],
   "source": [
    "api = sj.Shioaji()\n",
    "api.login(\n",
    "    person_id=\"YOUR_ID\", \n",
    "    passwd=\"YOUR_PASSWORD\", \n",
    "    contracts_cb=lambda security_type: print(f\"{repr(security_type)} fetch done.\")\n",
    ")\n",
    "# api.logout()\n",
    "\n",
    "connection = sqlite3.connect('data.db')"
   ]
  },
  {
   "cell_type": "code",
   "execution_count": 16,
   "metadata": {},
   "outputs": [],
   "source": [
    "ticks = {}\n",
    "kbars = {}\n",
    "volume_today = {}"
   ]
  },
  {
   "cell_type": "code",
   "execution_count": 17,
   "metadata": {},
   "outputs": [],
   "source": [
    "def tbot(code):\n",
    "\n",
    "    print('=== 啟動 tbot #{} ==='.format(code))\n",
    "    \n",
    "    tw_calendar = get_calendar('XTAI')\n",
    "    \n",
    "    date = pd.to_datetime(datetime.datetime.now().date())\n",
    "    prev_trading_date = tw_calendar.previous_close(date).date()\n",
    "    \n",
    "    if date not in tw_calendar.opens:\n",
    "        print('今日非交易日')\n",
    "        return \n",
    "\n",
    "    ticks[code] = get_ticks(code, prev_trading_date, connection, api)[0].append(get_ticks(code, date, connection, api)[0])\n",
    "    ticks[code] = ticks[code][['close', 'volume']]\n",
    "    kbars[code] = get_technical_indicator(ticks_to_kbars(ticks[code], interval='1Min'))\n",
    "    kbars[code] = kbars[code][date:]\n",
    "    volume_today[code] = kbars[code]['volume'].sum()"
   ]
  },
  {
   "cell_type": "code",
   "execution_count": 18,
   "metadata": {},
   "outputs": [
    {
     "name": "stdout",
     "output_type": "stream",
     "text": [
      "=== 啟動 tbot #2330 ===\n"
     ]
    }
   ],
   "source": [
    "code = '2330'\n",
    "tbot(code)"
   ]
  },
  {
   "cell_type": "code",
   "execution_count": 19,
   "metadata": {},
   "outputs": [
    {
     "data": {
      "text/plain": [
       "{'2330': 15248}"
      ]
     },
     "execution_count": 19,
     "metadata": {},
     "output_type": "execute_result"
    }
   ],
   "source": [
    "ticks\n",
    "ticks[code]\n",
    "kbars\n",
    "kbars[code]\n",
    "volume_today "
   ]
  },
  {
   "cell_type": "code",
   "execution_count": 20,
   "metadata": {},
   "outputs": [],
   "source": [
    "@api.quote.on_quote\n",
    "def quote_callback(topic: str, quote: dict):\n",
    "    \n",
    "#     print('\\n\\ntopic:', topic)\n",
    "#     print('quote:', quote)\n",
    "    \n",
    "    code = topic.split('/')[-1]\n",
    "    \n",
    "    ts = pd.to_datetime(quote.get('Date') + ' ' + quote.get('Time'))\n",
    "    \n",
    "    if ts.hour < 9:\n",
    "        return \n",
    "    \n",
    "    close = quote.get('Close')[0]\n",
    "    volume = quote.get('Volume')[0]\n",
    "    vol_sum = quote.get('VolSum')[0]\n",
    "    \n",
    "    ticks[code].loc[ts] = [close, volume]\n",
    "    volume_today[code] = vol_sum"
   ]
  },
  {
   "cell_type": "code",
   "execution_count": 21,
   "metadata": {},
   "outputs": [
    {
     "name": "stdout",
     "output_type": "stream",
     "text": [
      "Response Code: 200 | Event Code: 16 | Info: MKT/*/TSE/2330 | Event: Subscribe or Unsubscribe ok\n"
     ]
    }
   ],
   "source": [
    "api.quote.subscribe(api.Contracts.Stocks[code], quote_type='tick')"
   ]
  },
  {
   "cell_type": "code",
   "execution_count": 43,
   "metadata": {},
   "outputs": [
    {
     "name": "stdout",
     "output_type": "stream",
     "text": [
      "Response Code: 200 | Event Code: 16 | Info: MKT/*/TSE/2330 | Event: Subscribe or Unsubscribe ok\n"
     ]
    }
   ],
   "source": [
    "api.quote.unsubscribe(api.Contracts.Stocks[code], quote_type='tick')"
   ]
  },
  {
   "cell_type": "code",
   "execution_count": 42,
   "metadata": {},
   "outputs": [
    {
     "data": {
      "text/plain": [
       "22454"
      ]
     },
     "execution_count": 42,
     "metadata": {},
     "output_type": "execute_result"
    }
   ],
   "source": [
    "# ticks[code]\n",
    "volume_today[code]"
   ]
  },
  {
   "cell_type": "code",
   "execution_count": 44,
   "metadata": {},
   "outputs": [],
   "source": [
    "import time\n",
    "\n",
    "def tbot(code):\n",
    "\n",
    "    print('=== 啟動 tbot #{} ==='.format(code))\n",
    "    \n",
    "    tw_calendar = get_calendar('XTAI')\n",
    "    \n",
    "    date = pd.to_datetime(datetime.datetime.now().date())\n",
    "    prev_trading_date = tw_calendar.previous_close(date).date()\n",
    "    \n",
    "    if date not in tw_calendar.opens:\n",
    "        print('今日非交易日')\n",
    "        return \n",
    "\n",
    "    ticks[code] = get_ticks(code, prev_trading_date, connection, api)[0].append(get_ticks(code, date, connection, api)[0])\n",
    "    ticks[code] = ticks[code][['close', 'volume']]\n",
    "    kbars[code] = get_technical_indicator(ticks_to_kbars(ticks[code], interval='1Min'))\n",
    "    kbars[code] = kbars[code][date:]\n",
    "    volume_today[code] = kbars[code]['volume'].sum()\n",
    "    \n",
    "    api.quote.subscribe(api.Contracts.Stocks[code], quote_type='tick')\n",
    "    \n",
    "    while True:\n",
    "            \n",
    "        time.sleep(1)\n",
    "        \n",
    "        current_time = datetime.datetime.now()\n",
    "        \n",
    "        if current_time.second == 0:\n",
    "\n",
    "            kbars[code] = get_technical_indicator(ticks_to_kbars(ticks[code], interval='1Min'))\n",
    "            kbars[code] = kbars[code][date:]\n",
    "            \n",
    "            str_current_time = (current_time - datetime.timedelta(minutes=1)).strftime('%Y-%m-%d %H:%M:%S')\n",
    "            \n",
    "            try:\n",
    "                current_kbar = kbars[code].loc[str_current_time]\n",
    "            except:\n",
    "                continue\n",
    "            \n",
    "            print(current_kbar)"
   ]
  },
  {
   "cell_type": "code",
   "execution_count": null,
   "metadata": {},
   "outputs": [],
   "source": [
    "tbot('2330')"
   ]
  }
 ],
 "metadata": {
  "kernelspec": {
   "display_name": "Python 3",
   "language": "python",
   "name": "python3"
  },
  "language_info": {
   "codemirror_mode": {
    "name": "ipython",
    "version": 3
   },
   "file_extension": ".py",
   "mimetype": "text/x-python",
   "name": "python",
   "nbconvert_exporter": "python",
   "pygments_lexer": "ipython3",
   "version": "3.8.5"
  }
 },
 "nbformat": 4,
 "nbformat_minor": 4
}
