{
 "cells": [
  {
   "cell_type": "code",
   "execution_count": 1,
   "metadata": {},
   "outputs": [
    {
     "name": "stderr",
     "output_type": "stream",
     "text": [
      "/opt/anaconda3/lib/python3.8/site-packages/shioaji/__init__.py:20: Warning: Mac OS currently don't provide ca module all function about placing order is not working.\n",
      "  warnings.warn(\"Mac OS currently don't provide ca module all function about placing order is not working.\", Warning)\n"
     ]
    }
   ],
   "source": [
    "from database import *\n",
    "\n",
    "def ticks_to_kbars(ticks, interval='1Min'):\n",
    "\n",
    "    kbars = pd.DataFrame()\n",
    "    \n",
    "    kbars['open'] = ticks['close'].resample(interval).first()\n",
    "    kbars['close'] = ticks['close'].resample(interval).last()\n",
    "    kbars['high'] = ticks['close'].resample(interval).max()\n",
    "    kbars['low'] = ticks['close'].resample(interval).min()\n",
    "    kbars['volume'] = ticks['volume'].resample(interval).sum()\n",
    "    \n",
    "    kbars.dropna(inplace=True)\n",
    "    \n",
    "    return kbars"
   ]
  },
  {
   "cell_type": "code",
   "execution_count": 2,
   "metadata": {},
   "outputs": [],
   "source": [
    "def day_trading_backtest(code, date, connection, api):\n",
    "    \n",
    "    tw_calendar = get_calendar('XTAI')\n",
    "    prev_trading_date = tw_calendar.previous_close(date).date()\n",
    "    \n",
    "    ticks = get_ticks(code, prev_trading_date, connection, api)[0].append(get_ticks(code, date, connection, api)[0])\n",
    "    kbars = ticks_to_kbars(ticks)\n",
    "    kbars = kbars[date:]\n",
    "            \n",
    "    entry_price = 0\n",
    "    entry_time = None\n",
    "    \n",
    "    exit_price = 0\n",
    "    exit_time = None\n",
    "    \n",
    "    position = 0\n",
    "    volume_today = 0\n",
    "            \n",
    "    for ts in range(len(kbars)):\n",
    "        \n",
    "        current_time = kbars.iloc[ts].name + pd.Timedelta(minutes=1)\n",
    "        current_price = kbars['close'][ts]\n",
    "        volume_today += kbars['volume'][ts]\n",
    "        \n",
    "        if (\n",
    "            current_time >= date.replace(hour=9, minute=15, second=0) and\n",
    "            current_time <= date.replace(hour=9, minute=30, second=0) and\n",
    "            position == 0\n",
    "        ):\n",
    "            high_15m = kbars[:date.replace(hour=9, minute=14, second=0)]['high'].max()\n",
    "            low_15m = kbars[:date.replace(hour=9, minute=14, second=0)]['low'].min()\n",
    "            \n",
    "            if (\n",
    "                current_price > high_15m and\n",
    "                volume_today > 2000\n",
    "            ):\n",
    "\n",
    "                position = 1          \n",
    "                entry_price = current_price\n",
    "                entry_time = current_time\n",
    "\n",
    "                target_price = current_price * 1.03\n",
    "                stop_price = low_15m\n",
    "\n",
    "                print('[{}] buy {} at {}'.format(current_time, code, current_price))\n",
    "        \n",
    "        elif (\n",
    "            current_time >= date.replace(hour=9, minute=15, second=0) and\n",
    "            current_time < date.replace(hour=13, minute=0, second=0) and\n",
    "            position != 0\n",
    "        ):\n",
    "            \n",
    "            if (\n",
    "                current_price >= target_price or\n",
    "                current_price <= stop_price\n",
    "            ):\n",
    "\n",
    "                exit_price = current_price\n",
    "                exit_time = current_time  \n",
    "\n",
    "                print('[{}] sell {} at {}'.format(current_time, code, current_price))\n",
    "\n",
    "                break\n",
    "            \n",
    "        elif (\n",
    "            current_time >= date.replace(hour=13, minute=0, second=0) and\n",
    "            position != 0\n",
    "        ):\n",
    "            exit_price = current_price\n",
    "            exit_time = current_time\n",
    "            \n",
    "            print('[{}] sell {} at {}'.format(current_time, code, current_price))\n",
    "            \n",
    "            break\n",
    "            \n",
    "    if entry_time and exit_time:\n",
    "        transaction = pd.DataFrame([[date, \n",
    "                                     code, \n",
    "                                     entry_time,\n",
    "                                     entry_price, \n",
    "                                     position * 1000,\n",
    "                                     entry_price * position * 1000,\n",
    "                                     exit_time,\n",
    "                                     exit_price,\n",
    "                                     position * 1000,\n",
    "                                     exit_price * position * 1000]\n",
    "                                   ],\n",
    "                                    columns=[\n",
    "                                        '成交日期', \n",
    "                                        '股票代號',\n",
    "                                        '買進時間',\n",
    "                                        '買進價格',\n",
    "                                        '買進股數',\n",
    "                                        '買進金額',\n",
    "                                        '賣出時間',\n",
    "                                        '賣出價格',\n",
    "                                        '賣出股數',\n",
    "                                        '賣出金額'])\n",
    "        return transaction\n",
    "    else:\n",
    "        return pd.DataFrame()"
   ]
  },
  {
   "cell_type": "code",
   "execution_count": 3,
   "metadata": {},
   "outputs": [
    {
     "name": "stdout",
     "output_type": "stream",
     "text": [
      "Response Code: 0 | Event Code: 0 | Info: host '203.66.91.161:80', hostname '203.66.91.161:80' IP 203.66.91.161:80 (host 1 of 1) (host connection attempt 1 of 1) (total connection attempt 1 of 1) | Event: Session up\n",
      "<SecurityType.Index: 'IND'> fetch done.\n",
      "<SecurityType.Future: 'FUT'> fetch done.\n",
      "<SecurityType.Stock: 'STK'> fetch done.\n",
      "<SecurityType.Option: 'OPT'> fetch done.\n"
     ]
    }
   ],
   "source": [
    "api = sj.Shioaji()\n",
    "api.login(\n",
    "    person_id=\"O100318574\",\n",
    "    passwd=\"YHHung0903\",\n",
    "    contracts_cb=lambda security_type: print(f\"{repr(security_type)} fetch done.\"))\n",
    "\n",
    "# api.logout()\n",
    "\n",
    "connection = sqlite3.connect('data.db')"
   ]
  },
  {
   "cell_type": "code",
   "execution_count": 17,
   "metadata": {},
   "outputs": [],
   "source": [
    "def backtest(start_date, end_date, connection, api):\n",
    "    \n",
    "    tw_calendar = get_calendar('XTAI')\n",
    "    \n",
    "    transactions = pd.DataFrame()\n",
    "    \n",
    "    for date in pd.date_range(start_date, end_date):\n",
    "\n",
    "        if date not in tw_calendar.opens:\n",
    "            continue\n",
    "        \n",
    "        codes = get_stocks(date, connection)\n",
    "        day_trading_codes = [code for code in codes if get_stock(code, connection, api)[0].iloc[0]['day_trade'] == 'Yes']\n",
    "        \n",
    "        for code in day_trading_codes:\n",
    "            \n",
    "            transaction = day_trading_backtest(code, pd.to_datetime(date), connection, api)\n",
    "            \n",
    "            if not transaction.empty:\n",
    "                transactions = transactions.append(transaction)\n",
    "        \n",
    "    return transactions\n"
   ]
  },
  {
   "cell_type": "code",
   "execution_count": 18,
   "metadata": {},
   "outputs": [
    {
     "data": {
      "text/html": [
       "<div>\n",
       "<style scoped>\n",
       "    .dataframe tbody tr th:only-of-type {\n",
       "        vertical-align: middle;\n",
       "    }\n",
       "\n",
       "    .dataframe tbody tr th {\n",
       "        vertical-align: top;\n",
       "    }\n",
       "\n",
       "    .dataframe thead th {\n",
       "        text-align: right;\n",
       "    }\n",
       "</style>\n",
       "<table border=\"1\" class=\"dataframe\">\n",
       "  <thead>\n",
       "    <tr style=\"text-align: right;\">\n",
       "      <th></th>\n",
       "    </tr>\n",
       "  </thead>\n",
       "  <tbody>\n",
       "  </tbody>\n",
       "</table>\n",
       "</div>"
      ],
      "text/plain": [
       "Empty DataFrame\n",
       "Columns: []\n",
       "Index: []"
      ]
     },
     "execution_count": 18,
     "metadata": {},
     "output_type": "execute_result"
    }
   ],
   "source": [
    "transactions = backtest('2021/3/4', '2021/3/5', connection, api)\n",
    "transactions"
   ]
  }
 ],
 "metadata": {
  "kernelspec": {
   "display_name": "Python 3",
   "language": "python",
   "name": "python3"
  },
  "language_info": {
   "codemirror_mode": {
    "name": "ipython",
    "version": 3
   },
   "file_extension": ".py",
   "mimetype": "text/x-python",
   "name": "python",
   "nbconvert_exporter": "python",
   "pygments_lexer": "ipython3",
   "version": "3.8.5"
  }
 },
 "nbformat": 4,
 "nbformat_minor": 4
}
