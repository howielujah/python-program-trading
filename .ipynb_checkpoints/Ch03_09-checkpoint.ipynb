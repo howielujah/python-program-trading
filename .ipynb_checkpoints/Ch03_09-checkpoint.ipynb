{
 "cells": [
  {
   "cell_type": "code",
   "execution_count": 1,
   "metadata": {},
   "outputs": [
    {
     "name": "stderr",
     "output_type": "stream",
     "text": [
      "/opt/anaconda3/lib/python3.8/site-packages/shioaji/__init__.py:20: Warning: Mac OS currently don't provide ca module all function about placing order is not working.\n",
      "  warnings.warn(\"Mac OS currently don't provide ca module all function about placing order is not working.\", Warning)\n"
     ]
    }
   ],
   "source": [
    "from database import *\n",
    "\n",
    "def ticks_to_kbars(ticks, interval='1Min'):\n",
    "\n",
    "    kbars = pd.DataFrame()\n",
    "    \n",
    "    kbars['open'] = ticks['close'].resample(interval).first()\n",
    "    kbars['close'] = ticks['close'].resample(interval).last()\n",
    "    kbars['high'] = ticks['close'].resample(interval).max()\n",
    "    kbars['low'] = ticks['close'].resample(interval).min()\n",
    "    kbars['volume'] = ticks['volume'].resample(interval).sum()\n",
    "    \n",
    "    kbars.dropna(inplace=True)\n",
    "    \n",
    "    return kbars"
   ]
  },
  {
   "cell_type": "code",
   "execution_count": 2,
   "metadata": {},
   "outputs": [],
   "source": [
    "def day_trading_backtest(code, date, connection, api):\n",
    "    \n",
    "    tw_calendar = get_calendar('XTAI')\n",
    "    prev_trading_date = tw_calendar.previous_close(date).date()\n",
    "    \n",
    "    ticks = get_ticks(code, prev_trading_date, connection, api)[0].append(get_ticks(code, date, connection, api)[0])\n",
    "    kbars = ticks_to_kbars(ticks)\n",
    "    kbars = kbars[date:]\n",
    "            \n",
    "    entry_price = 0\n",
    "    entry_time = None\n",
    "    \n",
    "    exit_price = 0\n",
    "    exit_time = None\n",
    "    \n",
    "    position = 0\n",
    "    volume_today = 0\n",
    "            \n",
    "    for ts in range(len(kbars)):\n",
    "        \n",
    "        current_time = kbars.iloc[ts].name + pd.Timedelta(minutes=1)\n",
    "        current_price = kbars['close'][ts]\n",
    "        volume_today += kbars['volume'][ts]\n",
    "        \n",
    "        if (\n",
    "            current_time >= date.replace(hour=9, minute=15, second=0) and\n",
    "            current_time <= date.replace(hour=9, minute=30, second=0) and\n",
    "            position == 0\n",
    "        ):\n",
    "            high_15m = kbars[:date.replace(hour=9, minute=14, second=0)]['high'].max()\n",
    "            low_15m = kbars[:date.replace(hour=9, minute=14, second=0)]['low'].min()\n",
    "            \n",
    "            if (\n",
    "                current_price > high_15m and\n",
    "                volume_today > 2000\n",
    "            ):\n",
    "\n",
    "                position = 1          \n",
    "                entry_price = current_price\n",
    "                entry_time = current_time\n",
    "\n",
    "                target_price = current_price * 1.03\n",
    "                stop_price = low_15m\n",
    "\n",
    "                print('[{}] buy {} at {}'.format(current_time, code, current_price))\n",
    "        \n",
    "        elif (\n",
    "            current_time >= date.replace(hour=9, minute=15, second=0) and\n",
    "            current_time < date.replace(hour=13, minute=0, second=0) and\n",
    "            position != 0\n",
    "        ):\n",
    "            \n",
    "            if (\n",
    "                current_price >= target_price or\n",
    "                current_price <= stop_price\n",
    "            ):\n",
    "\n",
    "                exit_price = current_price\n",
    "                exit_time = current_time  \n",
    "\n",
    "                print('[{}] sell {} at {}'.format(current_time, code, current_price))\n",
    "\n",
    "                break\n",
    "            \n",
    "        elif (\n",
    "            current_time >= date.replace(hour=13, minute=0, second=0) and\n",
    "            position != 0\n",
    "        ):\n",
    "            exit_price = current_price\n",
    "            exit_time = current_time\n",
    "            \n",
    "            print('[{}] sell {} at {}'.format(current_time, code, current_price))\n",
    "            \n",
    "            break\n",
    "            \n",
    "    if entry_time and exit_time:\n",
    "        transaction = pd.DataFrame([[date, \n",
    "                                     code, \n",
    "                                     entry_time,\n",
    "                                     entry_price, \n",
    "                                     position * 1000,\n",
    "                                     entry_price * position * 1000,\n",
    "                                     exit_time,\n",
    "                                     exit_price,\n",
    "                                     position * 1000,\n",
    "                                     exit_price * position * 1000]\n",
    "                                   ],\n",
    "                                    columns=[\n",
    "                                        '成交日期', \n",
    "                                        '股票代號',\n",
    "                                        '買進時間',\n",
    "                                        '買進價格',\n",
    "                                        '買進股數',\n",
    "                                        '買進金額',\n",
    "                                        '賣出時間',\n",
    "                                        '賣出價格',\n",
    "                                        '賣出股數',\n",
    "                                        '賣出金額'])\n",
    "        return transaction\n",
    "    else:\n",
    "        return pd.DataFrame()"
   ]
  },
  {
   "cell_type": "code",
   "execution_count": 3,
   "metadata": {},
   "outputs": [
    {
     "name": "stdout",
     "output_type": "stream",
     "text": [
      "Response Code: 0 | Event Code: 0 | Info: host '203.66.91.161:80', hostname '203.66.91.161:80' IP 203.66.91.161:80 (host 1 of 1) (host connection attempt 1 of 1) (total connection attempt 1 of 1) | Event: Session up\n",
      "<SecurityType.Index: 'IND'> fetch done.\n",
      "<SecurityType.Future: 'FUT'> fetch done.\n",
      "<SecurityType.Stock: 'STK'> fetch done.\n",
      "<SecurityType.Option: 'OPT'> fetch done.\n"
     ]
    }
   ],
   "source": [
    "api = sj.Shioaji()\n",
    "api.login(\n",
    "    person_id=\"O100318574\",\n",
    "    passwd=\"YHHung0903\",\n",
    "    contracts_cb=lambda security_type: print(f\"{repr(security_type)} fetch done.\"))\n",
    "\n",
    "# api.logout()\n",
    "\n",
    "connection = sqlite3.connect('data.db')"
   ]
  },
  {
   "cell_type": "code",
   "execution_count": 4,
   "metadata": {},
   "outputs": [],
   "source": [
    "def backtest(start_date, end_date, connection, api, discount=0.38):\n",
    "    \n",
    "    tw_calendar = get_calendar('XTAI')\n",
    "    \n",
    "    transactions = pd.DataFrame()\n",
    "    \n",
    "    for date in pd.date_range(start_date, end_date):\n",
    "\n",
    "        if date not in tw_calendar.opens:\n",
    "            continue\n",
    "        \n",
    "        codes = get_stocks(date, connection)\n",
    "        day_trading_codes = [code for code in codes if get_stock(code, connection, api)[0].iloc[0]['day_trade'] == 'Yes']\n",
    "        \n",
    "        for code in day_trading_codes:\n",
    "            \n",
    "            transaction = day_trading_backtest(code, pd.to_datetime(date), connection, api)\n",
    "            \n",
    "            if not transaction.empty:\n",
    "                transactions = transactions.append(transaction)\n",
    "                \n",
    "    if not transactions.empty:\n",
    "\n",
    "        transactions['買進手續費'] = transactions['買進金額'] * 0.001425 * discount\n",
    "        transactions['買進手續費'] = transactions['買進手續費'].apply(lambda fee : fee if fee > 20 else 20)\n",
    "        transactions['買進手續費'] = transactions['買進手續費'].astype(int)\n",
    "\n",
    "        transactions['賣出手續費'] = transactions['賣出金額'] * 0.001425 * discount\n",
    "        transactions['賣出手續費'] = transactions['賣出手續費'].apply(lambda fee : fee if fee > 20 else 20)\n",
    "        transactions['賣出手續費'] = transactions['賣出手續費'].astype(int)\n",
    "\n",
    "        transactions['交易稅'] = transactions['賣出金額'] * 0.0015\n",
    "        transactions['交易稅'] = transactions['交易稅'].astype(int)\n",
    "\n",
    "        transactions['損益'] = (transactions['賣出金額'] - transactions['買進金額']) - (transactions['買進手續費'] + transactions['賣出手續費'] + transactions['交易稅'])\n",
    "\n",
    "        transactions = transactions.set_index(['成交日期'])\n",
    "        \n",
    "    return transactions"
   ]
  },
  {
   "cell_type": "code",
   "execution_count": null,
   "metadata": {},
   "outputs": [],
   "source": [
    "transactions = backtest('2021/1/1', '2021/3/5', connection, api)\n",
    "transactions"
   ]
  },
  {
   "cell_type": "code",
   "execution_count": 9,
   "metadata": {},
   "outputs": [
    {
     "data": {
      "text/html": [
       "<div>\n",
       "<style scoped>\n",
       "    .dataframe tbody tr th:only-of-type {\n",
       "        vertical-align: middle;\n",
       "    }\n",
       "\n",
       "    .dataframe tbody tr th {\n",
       "        vertical-align: top;\n",
       "    }\n",
       "\n",
       "    .dataframe thead th {\n",
       "        text-align: right;\n",
       "    }\n",
       "</style>\n",
       "<table border=\"1\" class=\"dataframe\">\n",
       "  <thead>\n",
       "    <tr style=\"text-align: right;\">\n",
       "      <th></th>\n",
       "      <th>買進金額</th>\n",
       "      <th>買進手續費</th>\n",
       "      <th>賣出金額</th>\n",
       "      <th>賣出手續費</th>\n",
       "      <th>交易稅</th>\n",
       "      <th>損益</th>\n",
       "      <th>交易次數</th>\n",
       "    </tr>\n",
       "    <tr>\n",
       "      <th>成交日期</th>\n",
       "      <th></th>\n",
       "      <th></th>\n",
       "      <th></th>\n",
       "      <th></th>\n",
       "      <th></th>\n",
       "      <th></th>\n",
       "      <th></th>\n",
       "    </tr>\n",
       "  </thead>\n",
       "  <tbody>\n",
       "    <tr>\n",
       "      <th>2020-09-01</th>\n",
       "      <td>41390.0</td>\n",
       "      <td>60</td>\n",
       "      <td>41810.0</td>\n",
       "      <td>60</td>\n",
       "      <td>62</td>\n",
       "      <td>238.0</td>\n",
       "      <td>3.0</td>\n",
       "    </tr>\n",
       "    <tr>\n",
       "      <th>2020-09-04</th>\n",
       "      <td>34900.0</td>\n",
       "      <td>60</td>\n",
       "      <td>35450.0</td>\n",
       "      <td>60</td>\n",
       "      <td>52</td>\n",
       "      <td>378.0</td>\n",
       "      <td>3.0</td>\n",
       "    </tr>\n",
       "    <tr>\n",
       "      <th>2020-09-07</th>\n",
       "      <td>13550.0</td>\n",
       "      <td>20</td>\n",
       "      <td>13250.0</td>\n",
       "      <td>20</td>\n",
       "      <td>19</td>\n",
       "      <td>-359.0</td>\n",
       "      <td>1.0</td>\n",
       "    </tr>\n",
       "    <tr>\n",
       "      <th>2020-09-09</th>\n",
       "      <td>43580.0</td>\n",
       "      <td>80</td>\n",
       "      <td>44600.0</td>\n",
       "      <td>80</td>\n",
       "      <td>66</td>\n",
       "      <td>794.0</td>\n",
       "      <td>4.0</td>\n",
       "    </tr>\n",
       "    <tr>\n",
       "      <th>2020-09-17</th>\n",
       "      <td>25950.0</td>\n",
       "      <td>20</td>\n",
       "      <td>25700.0</td>\n",
       "      <td>20</td>\n",
       "      <td>38</td>\n",
       "      <td>-328.0</td>\n",
       "      <td>1.0</td>\n",
       "    </tr>\n",
       "    <tr>\n",
       "      <th>2020-09-21</th>\n",
       "      <td>13300.0</td>\n",
       "      <td>20</td>\n",
       "      <td>13700.0</td>\n",
       "      <td>20</td>\n",
       "      <td>20</td>\n",
       "      <td>340.0</td>\n",
       "      <td>1.0</td>\n",
       "    </tr>\n",
       "    <tr>\n",
       "      <th>2020-09-22</th>\n",
       "      <td>11000.0</td>\n",
       "      <td>20</td>\n",
       "      <td>11400.0</td>\n",
       "      <td>20</td>\n",
       "      <td>17</td>\n",
       "      <td>343.0</td>\n",
       "      <td>1.0</td>\n",
       "    </tr>\n",
       "    <tr>\n",
       "      <th>2020-09-25</th>\n",
       "      <td>12200.0</td>\n",
       "      <td>20</td>\n",
       "      <td>12300.0</td>\n",
       "      <td>20</td>\n",
       "      <td>18</td>\n",
       "      <td>42.0</td>\n",
       "      <td>1.0</td>\n",
       "    </tr>\n",
       "    <tr>\n",
       "      <th>2020-09-28</th>\n",
       "      <td>42450.0</td>\n",
       "      <td>40</td>\n",
       "      <td>42950.0</td>\n",
       "      <td>40</td>\n",
       "      <td>64</td>\n",
       "      <td>356.0</td>\n",
       "      <td>2.0</td>\n",
       "    </tr>\n",
       "    <tr>\n",
       "      <th>2020-09-30</th>\n",
       "      <td>27650.0</td>\n",
       "      <td>20</td>\n",
       "      <td>28500.0</td>\n",
       "      <td>20</td>\n",
       "      <td>42</td>\n",
       "      <td>768.0</td>\n",
       "      <td>1.0</td>\n",
       "    </tr>\n",
       "  </tbody>\n",
       "</table>\n",
       "</div>"
      ],
      "text/plain": [
       "               買進金額  買進手續費     賣出金額  賣出手續費  交易稅     損益  交易次數\n",
       "成交日期                                                        \n",
       "2020-09-01  41390.0     60  41810.0     60   62  238.0   3.0\n",
       "2020-09-04  34900.0     60  35450.0     60   52  378.0   3.0\n",
       "2020-09-07  13550.0     20  13250.0     20   19 -359.0   1.0\n",
       "2020-09-09  43580.0     80  44600.0     80   66  794.0   4.0\n",
       "2020-09-17  25950.0     20  25700.0     20   38 -328.0   1.0\n",
       "2020-09-21  13300.0     20  13700.0     20   20  340.0   1.0\n",
       "2020-09-22  11000.0     20  11400.0     20   17  343.0   1.0\n",
       "2020-09-25  12200.0     20  12300.0     20   18   42.0   1.0\n",
       "2020-09-28  42450.0     40  42950.0     40   64  356.0   2.0\n",
       "2020-09-30  27650.0     20  28500.0     20   42  768.0   1.0"
      ]
     },
     "execution_count": 9,
     "metadata": {},
     "output_type": "execute_result"
    }
   ],
   "source": [
    "daily_profit_loss = transactions.resample('D').sum()\n",
    "daily_profit_loss['交易次數'] = transactions.groupby('成交日期').size()\n",
    "daily_profit_loss = daily_profit_loss[['買進金額', '買進手續費', '賣出金額', '賣出手續費', '交易稅', '損益', '交易次數']]\n",
    "daily_profit_loss.dropna(inplace=True) \n",
    "\n",
    "daily_profit_loss"
   ]
  },
  {
   "cell_type": "code",
   "execution_count": 10,
   "metadata": {},
   "outputs": [
    {
     "data": {
      "text/html": [
       "<div>\n",
       "<style scoped>\n",
       "    .dataframe tbody tr th:only-of-type {\n",
       "        vertical-align: middle;\n",
       "    }\n",
       "\n",
       "    .dataframe tbody tr th {\n",
       "        vertical-align: top;\n",
       "    }\n",
       "\n",
       "    .dataframe thead th {\n",
       "        text-align: right;\n",
       "    }\n",
       "</style>\n",
       "<table border=\"1\" class=\"dataframe\">\n",
       "  <thead>\n",
       "    <tr style=\"text-align: right;\">\n",
       "      <th></th>\n",
       "      <th>買進金額</th>\n",
       "      <th>買進手續費</th>\n",
       "      <th>賣出金額</th>\n",
       "      <th>賣出手續費</th>\n",
       "      <th>交易稅</th>\n",
       "      <th>損益</th>\n",
       "      <th>交易次數</th>\n",
       "    </tr>\n",
       "    <tr>\n",
       "      <th>成交日期</th>\n",
       "      <th></th>\n",
       "      <th></th>\n",
       "      <th></th>\n",
       "      <th></th>\n",
       "      <th></th>\n",
       "      <th></th>\n",
       "      <th></th>\n",
       "    </tr>\n",
       "  </thead>\n",
       "  <tbody>\n",
       "    <tr>\n",
       "      <th>2020-09-30</th>\n",
       "      <td>265970.0</td>\n",
       "      <td>360</td>\n",
       "      <td>269660.0</td>\n",
       "      <td>360</td>\n",
       "      <td>398</td>\n",
       "      <td>2572.0</td>\n",
       "      <td>18.0</td>\n",
       "    </tr>\n",
       "  </tbody>\n",
       "</table>\n",
       "</div>"
      ],
      "text/plain": [
       "                買進金額  買進手續費      賣出金額  賣出手續費  交易稅      損益  交易次數\n",
       "成交日期                                                           \n",
       "2020-09-30  265970.0    360  269660.0    360  398  2572.0  18.0"
      ]
     },
     "execution_count": 10,
     "metadata": {},
     "output_type": "execute_result"
    }
   ],
   "source": [
    "monthly_profit_loss = daily_profit_loss.resample('M').sum()\n",
    "monthly_profit_loss "
   ]
  },
  {
   "cell_type": "code",
   "execution_count": 11,
   "metadata": {},
   "outputs": [
    {
     "data": {
      "text/plain": [
       "2572.0"
      ]
     },
     "execution_count": 11,
     "metadata": {},
     "output_type": "execute_result"
    }
   ],
   "source": [
    "# 總損益\n",
    "profit_loss = daily_profit_loss['損益'].sum()\n",
    "profit_loss"
   ]
  },
  {
   "cell_type": "code",
   "execution_count": 12,
   "metadata": {},
   "outputs": [
    {
     "data": {
      "text/plain": [
       "0.722"
      ]
     },
     "execution_count": 12,
     "metadata": {},
     "output_type": "execute_result"
    }
   ],
   "source": [
    "# 勝率\n",
    "win_rate = round(len(transactions[transactions['損益'] > 0]) / len(transactions), 3)\n",
    "win_rate"
   ]
  },
  {
   "cell_type": "code",
   "execution_count": 13,
   "metadata": {},
   "outputs": [
    {
     "name": "stdout",
     "output_type": "stream",
     "text": [
      "最大連續虧損 -359.0\n"
     ]
    }
   ],
   "source": [
    "# 最大連續虧損\n",
    "con_loss = 0\n",
    "max_loss = 0\n",
    "\n",
    "for profit_loss in daily_profit_loss[\"損益\"]:\n",
    "    \n",
    "    if profit_loss < 0:\n",
    "        con_loss += profit_loss\n",
    "    else:\n",
    "        con_loss = 0\n",
    "        continue\n",
    "    \n",
    "    if con_loss < max_loss:\n",
    "        max_loss = con_loss\n",
    "        \n",
    "print('最大連續虧損', max_loss)"
   ]
  },
  {
   "cell_type": "code",
   "execution_count": 16,
   "metadata": {},
   "outputs": [
    {
     "data": {
      "text/plain": [
       "[Text(0.5, 0, 'profit loss')]"
      ]
     },
     "execution_count": 16,
     "metadata": {},
     "output_type": "execute_result"
    },
    {
     "data": {
      "image/png": "[encoded data removed]",
      "text/plain": [
       "<Figure size 1080x576 with 1 Axes>"
      ]
     },
     "metadata": {
      "needs_background": "light"
     },
     "output_type": "display_data"
    }
   ],
   "source": [
    "daily_profit_loss['損益'].cumsum()\n",
    "daily_profit_loss['損益'].cumsum().plot(title='Backtest', figsize=(15, 8)).set(xlabel='profit loss')"
   ]
  }
 ],
 "metadata": {
  "kernelspec": {
   "display_name": "Python 3",
   "language": "python",
   "name": "python3"
  },
  "language_info": {
   "codemirror_mode": {
    "name": "ipython",
    "version": 3
   },
   "file_extension": ".py",
   "mimetype": "text/x-python",
   "name": "python",
   "nbconvert_exporter": "python",
   "pygments_lexer": "ipython3",
   "version": "3.8.5"
  }
 },
 "nbformat": 4,
 "nbformat_minor": 4
}
