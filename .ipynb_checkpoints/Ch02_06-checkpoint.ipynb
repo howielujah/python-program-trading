{
 "cells": [
  {
   "cell_type": "code",
   "execution_count": 1,
   "metadata": {},
   "outputs": [],
   "source": [
    "import pandas as pd\n",
    "from trading_calendars import get_calendar\n",
    "import sqlite3\n",
    "\n",
    "\n",
    "def get_stock(code, connection, api):\n",
    "    \n",
    "    try:\n",
    "        sql = \"SELECT * FROM stocks WHERE code = '{}'\".format(code)\n",
    "        df = pd.read_sql(sql, connection, index_col=['code'])\n",
    "    except:\n",
    "        df = pd.DataFrame()\n",
    "\n",
    "    if not df.empty:\n",
    "        return df, True\n",
    "    \n",
    "    stock = api.Contracts.Stocks[code]\n",
    "    \n",
    "    stock_dict = {\n",
    "        'code': [stock.code],\n",
    "        'name': [stock.name],\n",
    "        'category': [stock.category],\n",
    "        'day_trade': [stock.day_trade.value]\n",
    "    }\n",
    "    \n",
    "    df = pd.DataFrame(data=stock_dict)\n",
    "    df = df.set_index('code')\n",
    "    \n",
    "    return df, False"
   ]
  },
  {
   "cell_type": "code",
   "execution_count": 2,
   "metadata": {},
   "outputs": [],
   "source": [
    "import time\n",
    "\n",
    "def update_stocks(daily_target, connection, api):\n",
    "    \n",
    "    main_df = pd.DataFrame()\n",
    "    \n",
    "    code_list = []\n",
    "    \n",
    "    for codes in daily_target.values():\n",
    "        code_list.extend(codes)\n",
    "        \n",
    "    code_list = list(set(code_list))\n",
    "    \n",
    "    for code in code_list:\n",
    "        \n",
    "        df, in_db = get_stock(code, connection, api)\n",
    "        \n",
    "        if df is not None and not in_db:\n",
    "            main_df = main_df.append(df, sort=False)\n",
    "            time.sleep(1)\n",
    "        \n",
    "    if not main_df.empty:\n",
    "        main_df.to_sql('stocks', connection, if_exists='append')\n",
    "        return main_df"
   ]
  },
  {
   "cell_type": "code",
   "execution_count": 3,
   "metadata": {},
   "outputs": [
    {
     "data": {
      "text/plain": [
       "{Timestamp('2020-09-02 00:00:00'): ['2303', '2603', '2609', '3576', '6443'],\n",
       " Timestamp('2020-09-03 00:00:00'): ['2324', '3576', '6443'],\n",
       " Timestamp('2020-09-04 00:00:00'): ['1609',\n",
       "  '1714',\n",
       "  '1802',\n",
       "  '2312',\n",
       "  '2344',\n",
       "  '2349',\n",
       "  '2409',\n",
       "  '2603',\n",
       "  '3481',\n",
       "  '3576',\n",
       "  '3704',\n",
       "  '6116',\n",
       "  '6191']}"
      ]
     },
     "execution_count": 3,
     "metadata": {},
     "output_type": "execute_result"
    }
   ],
   "source": [
    "daily_target = {\n",
    "    pd.to_datetime('2020-09-02'): ['2303', '2603', '2609', '3576', '6443'],\n",
    "    pd.to_datetime('2020-09-03'): ['2324', '3576', '6443'],\n",
    "    pd.to_datetime('2020-09-04'): ['1609', '1714', '1802', '2312', '2344', '2349', '2409', '2603', '3481', '3576', '3704', '6116', '6191']\n",
    "}\n",
    "\n",
    "daily_target"
   ]
  },
  {
   "cell_type": "code",
   "execution_count": null,
   "metadata": {},
   "outputs": [],
   "source": [
    "import shioaji as sj\n",
    "\n",
    "api = sj.Shioaji()\n",
    "api.login(\n",
    "    person_id=\"YOUR_ID\",\n",
    "    passwd=\"YOUR_PASSWORD\",\n",
    "    contracts_cb=lambda security_type: print(f\"{repr(security_type)} fetch done.\"))\n",
    "\n",
    "# api.logout()\n",
    "\n",
    "connection = sqlite3.connect('data.db')"
   ]
  },
  {
   "cell_type": "code",
   "execution_count": 5,
   "metadata": {},
   "outputs": [
    {
     "data": {
      "text/html": [
       "<div>\n",
       "<style scoped>\n",
       "    .dataframe tbody tr th:only-of-type {\n",
       "        vertical-align: middle;\n",
       "    }\n",
       "\n",
       "    .dataframe tbody tr th {\n",
       "        vertical-align: top;\n",
       "    }\n",
       "\n",
       "    .dataframe thead th {\n",
       "        text-align: right;\n",
       "    }\n",
       "</style>\n",
       "<table border=\"1\" class=\"dataframe\">\n",
       "  <thead>\n",
       "    <tr style=\"text-align: right;\">\n",
       "      <th></th>\n",
       "      <th>name</th>\n",
       "      <th>category</th>\n",
       "      <th>day_trade</th>\n",
       "    </tr>\n",
       "    <tr>\n",
       "      <th>code</th>\n",
       "      <th></th>\n",
       "      <th></th>\n",
       "      <th></th>\n",
       "    </tr>\n",
       "  </thead>\n",
       "  <tbody>\n",
       "    <tr>\n",
       "      <th>1802</th>\n",
       "      <td>台玻</td>\n",
       "      <td>08</td>\n",
       "      <td>Yes</td>\n",
       "    </tr>\n",
       "    <tr>\n",
       "      <th>6116</th>\n",
       "      <td>彩晶</td>\n",
       "      <td>26</td>\n",
       "      <td>Yes</td>\n",
       "    </tr>\n",
       "    <tr>\n",
       "      <th>1609</th>\n",
       "      <td>大亞</td>\n",
       "      <td>06</td>\n",
       "      <td>Yes</td>\n",
       "    </tr>\n",
       "    <tr>\n",
       "      <th>2344</th>\n",
       "      <td>華邦電</td>\n",
       "      <td>24</td>\n",
       "      <td>Yes</td>\n",
       "    </tr>\n",
       "    <tr>\n",
       "      <th>2603</th>\n",
       "      <td>長榮</td>\n",
       "      <td>15</td>\n",
       "      <td>Yes</td>\n",
       "    </tr>\n",
       "    <tr>\n",
       "      <th>2409</th>\n",
       "      <td>友達</td>\n",
       "      <td>26</td>\n",
       "      <td>Yes</td>\n",
       "    </tr>\n",
       "    <tr>\n",
       "      <th>2609</th>\n",
       "      <td>陽明</td>\n",
       "      <td>15</td>\n",
       "      <td>No</td>\n",
       "    </tr>\n",
       "    <tr>\n",
       "      <th>2312</th>\n",
       "      <td>金寶</td>\n",
       "      <td>31</td>\n",
       "      <td>Yes</td>\n",
       "    </tr>\n",
       "    <tr>\n",
       "      <th>6191</th>\n",
       "      <td>精成科</td>\n",
       "      <td>28</td>\n",
       "      <td>Yes</td>\n",
       "    </tr>\n",
       "    <tr>\n",
       "      <th>3576</th>\n",
       "      <td>聯合再生</td>\n",
       "      <td>26</td>\n",
       "      <td>No</td>\n",
       "    </tr>\n",
       "    <tr>\n",
       "      <th>3704</th>\n",
       "      <td>合勤控</td>\n",
       "      <td>27</td>\n",
       "      <td>Yes</td>\n",
       "    </tr>\n",
       "    <tr>\n",
       "      <th>6443</th>\n",
       "      <td>元晶</td>\n",
       "      <td>26</td>\n",
       "      <td>No</td>\n",
       "    </tr>\n",
       "    <tr>\n",
       "      <th>3481</th>\n",
       "      <td>群創</td>\n",
       "      <td>26</td>\n",
       "      <td>Yes</td>\n",
       "    </tr>\n",
       "    <tr>\n",
       "      <th>2324</th>\n",
       "      <td>仁寶</td>\n",
       "      <td>25</td>\n",
       "      <td>Yes</td>\n",
       "    </tr>\n",
       "    <tr>\n",
       "      <th>2303</th>\n",
       "      <td>聯電</td>\n",
       "      <td>24</td>\n",
       "      <td>Yes</td>\n",
       "    </tr>\n",
       "    <tr>\n",
       "      <th>2349</th>\n",
       "      <td>錸德</td>\n",
       "      <td>26</td>\n",
       "      <td>No</td>\n",
       "    </tr>\n",
       "    <tr>\n",
       "      <th>1714</th>\n",
       "      <td>和桐</td>\n",
       "      <td>21</td>\n",
       "      <td>Yes</td>\n",
       "    </tr>\n",
       "  </tbody>\n",
       "</table>\n",
       "</div>"
      ],
      "text/plain": [
       "      name category day_trade\n",
       "code                         \n",
       "1802    台玻       08       Yes\n",
       "6116    彩晶       26       Yes\n",
       "1609    大亞       06       Yes\n",
       "2344   華邦電       24       Yes\n",
       "2603    長榮       15       Yes\n",
       "2409    友達       26       Yes\n",
       "2609    陽明       15        No\n",
       "2312    金寶       31       Yes\n",
       "6191   精成科       28       Yes\n",
       "3576  聯合再生       26        No\n",
       "3704   合勤控       27       Yes\n",
       "6443    元晶       26        No\n",
       "3481    群創       26       Yes\n",
       "2324    仁寶       25       Yes\n",
       "2303    聯電       24       Yes\n",
       "2349    錸德       26        No\n",
       "1714    和桐       21       Yes"
      ]
     },
     "execution_count": 5,
     "metadata": {},
     "output_type": "execute_result"
    }
   ],
   "source": [
    "update_stocks(daily_target, connection, api)"
   ]
  },
  {
   "cell_type": "code",
   "execution_count": 9,
   "metadata": {},
   "outputs": [
    {
     "data": {
      "text/plain": [
       "True"
      ]
     },
     "execution_count": 9,
     "metadata": {},
     "output_type": "execute_result"
    }
   ],
   "source": [
    "get_stock('2303', connection, api)\n",
    "get_stock('2303', connection, api)[0]\n",
    "get_stock('2303', connection, api)[0].iloc[0]['day_trade']\n",
    "get_stock('2303', connection, api)[0].iloc[0]['day_trade'] == 'Yes'"
   ]
  },
  {
   "cell_type": "code",
   "execution_count": 10,
   "metadata": {},
   "outputs": [
    {
     "data": {
      "text/plain": [
       "['2303', '2603']"
      ]
     },
     "execution_count": 10,
     "metadata": {},
     "output_type": "execute_result"
    }
   ],
   "source": [
    "codes = ['2303', '2603', '2609', '3576', '6443']\n",
    "day_trading_codes = [code for code in codes if get_stock(code, connection, api)[0].iloc[0]['day_trade'] == 'Yes']\n",
    "day_trading_codes"
   ]
  }
 ],
 "metadata": {
  "kernelspec": {
   "display_name": "Python 3",
   "language": "python",
   "name": "python3"
  },
  "language_info": {
   "codemirror_mode": {
    "name": "ipython",
    "version": 3
   },
   "file_extension": ".py",
   "mimetype": "text/x-python",
   "name": "python",
   "nbconvert_exporter": "python",
   "pygments_lexer": "ipython3",
   "version": "3.8.5"
  }
 },
 "nbformat": 4,
 "nbformat_minor": 4
}
