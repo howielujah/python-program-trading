{
 "cells": [
  {
   "cell_type": "code",
   "execution_count": 1,
   "metadata": {},
   "outputs": [
    {
     "name": "stderr",
     "output_type": "stream",
     "text": [
      "/opt/anaconda3/lib/python3.8/site-packages/shioaji/__init__.py:20: Warning: Mac OS currently don't provide ca module all function about placing order is not working.\n",
      "  warnings.warn(\"Mac OS currently don't provide ca module all function about placing order is not working.\", Warning)\n"
     ]
    },
    {
     "name": "stdout",
     "output_type": "stream",
     "text": [
      "Response Code: 0 | Event Code: 0 | Info: host '203.66.91.161:80', hostname '203.66.91.161:80' IP 203.66.91.161:80 (host 1 of 1) (host connection attempt 1 of 1) (total connection attempt 1 of 1) | Event: Session up\n",
      "<SecurityType.Index: 'IND'> fetch done.\n"
     ]
    },
    {
     "data": {
      "text/plain": [
       "[Account(account_type=<AccountType.H: 'H'>, person_id='O100318574', broker_id='9A92', account_id='0034431', username='洪英皓'),\n",
       " StockAccount(person_id='O100318574', broker_id='9A92', account_id='0299558', signed=True, username='洪英皓\\u3000\\u3000')]"
      ]
     },
     "execution_count": 1,
     "metadata": {},
     "output_type": "execute_result"
    },
    {
     "name": "stdout",
     "output_type": "stream",
     "text": [
      "<SecurityType.Future: 'FUT'> fetch done.\n",
      "<SecurityType.Stock: 'STK'> fetch done.\n",
      "<SecurityType.Option: 'OPT'> fetch done.\n"
     ]
    }
   ],
   "source": [
    "import shioaji as sj\n",
    "api = sj.Shioaji()\n",
    "api.login(person_id=\"O100318574\",\n",
    "         passwd=\"YHHung0903\",\n",
    "         contracts_cb=lambda security_type: print(f\"{repr(security_type)} fetch done.\"))"
   ]
  },
  {
   "cell_type": "code",
   "execution_count": 2,
   "metadata": {},
   "outputs": [
    {
     "data": {
      "text/plain": [
       "Stock(exchange=<Exchange.TSE: 'TSE'>, code='2330', symbol='TSE2330', name='台積電', category='24', unit=1000, limit_up=669.0, limit_down=549.0, reference=609.0, update_date='2021/03/03', margin_trading_balance=956, short_selling_balance=32, day_trade=<DayTrade.Yes: 'Yes'>)"
      ]
     },
     "execution_count": 2,
     "metadata": {},
     "output_type": "execute_result"
    }
   ],
   "source": [
    "api.Contracts.Stocks['2330']"
   ]
  },
  {
   "cell_type": "code",
   "execution_count": 14,
   "metadata": {},
   "outputs": [],
   "source": [
    "import pandas as pd\n",
    "import sqlite3\n",
    "\n",
    "def get_stock(code, connection, api):\n",
    "    try:\n",
    "        sql=\"select * from stocks where code = '{}'\".format(code)\n",
    "        df=pd.read_sql(sql, connection, index_col=['code'])\n",
    "    except:\n",
    "        df = pd.DataFrame()\n",
    "    \n",
    "    if not df.empty:\n",
    "        return df, True\n",
    "    \n",
    "    stock = api.Contracts.Stocks[code]\n",
    "    \n",
    "    stock_dict = {\n",
    "        'code': [stock.code],\n",
    "        'name': [stock.name],\n",
    "        'category': [stock.category],\n",
    "        'category': [stock.day_trade.value]\n",
    "    }\n",
    "    df = pd.DataFrame(data=stock_dict)\n",
    "    df = df.set_index('code')\n",
    "    \n",
    "    return df, False"
   ]
  },
  {
   "cell_type": "code",
   "execution_count": 15,
   "metadata": {},
   "outputs": [
    {
     "name": "stdout",
     "output_type": "stream",
     "text": [
      "False\n"
     ]
    },
    {
     "data": {
      "text/html": [
       "<div>\n",
       "<style scoped>\n",
       "    .dataframe tbody tr th:only-of-type {\n",
       "        vertical-align: middle;\n",
       "    }\n",
       "\n",
       "    .dataframe tbody tr th {\n",
       "        vertical-align: top;\n",
       "    }\n",
       "\n",
       "    .dataframe thead th {\n",
       "        text-align: right;\n",
       "    }\n",
       "</style>\n",
       "<table border=\"1\" class=\"dataframe\">\n",
       "  <thead>\n",
       "    <tr style=\"text-align: right;\">\n",
       "      <th></th>\n",
       "      <th>name</th>\n",
       "      <th>category</th>\n",
       "    </tr>\n",
       "    <tr>\n",
       "      <th>code</th>\n",
       "      <th></th>\n",
       "      <th></th>\n",
       "    </tr>\n",
       "  </thead>\n",
       "  <tbody>\n",
       "    <tr>\n",
       "      <th>2409</th>\n",
       "      <td>友達</td>\n",
       "      <td>Yes</td>\n",
       "    </tr>\n",
       "  </tbody>\n",
       "</table>\n",
       "</div>"
      ],
      "text/plain": [
       "     name category\n",
       "code              \n",
       "2409   友達      Yes"
      ]
     },
     "execution_count": 15,
     "metadata": {},
     "output_type": "execute_result"
    }
   ],
   "source": [
    "connection = sqlite3.connect('data.db')\n",
    "df, in_db = get_stock('2409', connection, api)\n",
    "\n",
    "print(in_db)\n",
    "df"
   ]
  }
 ],
 "metadata": {
  "kernelspec": {
   "display_name": "Python 3",
   "language": "python",
   "name": "python3"
  },
  "language_info": {
   "codemirror_mode": {
    "name": "ipython",
    "version": 3
   },
   "file_extension": ".py",
   "mimetype": "text/x-python",
   "name": "python",
   "nbconvert_exporter": "python",
   "pygments_lexer": "ipython3",
   "version": "3.8.5"
  }
 },
 "nbformat": 4,
 "nbformat_minor": 4
}
