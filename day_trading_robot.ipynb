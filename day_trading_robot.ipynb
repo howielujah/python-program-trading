{
 "cells": [
  {
   "cell_type": "code",
   "execution_count": 1,
   "metadata": {},
   "outputs": [],
   "source": [
    "from database import *\n",
    "from backtest import *\n",
    "import json"
   ]
  },
  {
   "cell_type": "code",
   "execution_count": 2,
   "metadata": {},
   "outputs": [
    {
     "name": "stdout",
     "output_type": "stream",
     "text": [
      "Response Code: 0 | Event Code: 0 | Info: host '203.66.91.161:80', hostname '203.66.91.161:80' IP 203.66.91.161:80 (host 1 of 1) (host connection attempt 1 of 1) (total connection attempt 1 of 1) | Event: Session up\n",
      "<SecurityType.Index: 'IND'> fetch done.\n"
     ]
    },
    {
     "data": {
      "text/plain": [
       "True"
      ]
     },
     "execution_count": 2,
     "metadata": {},
     "output_type": "execute_result"
    }
   ],
   "source": [
    "with open('config.json') as f:\n",
    "  config = json.load(f)\n",
    "\n",
    "api = sj.Shioaji()\n",
    "api.login(\n",
    "    person_id=config['account'], \n",
    "    passwd=config['password'], \n",
    "    contracts_cb=lambda security_type: print(f\"{repr(security_type)} fetch done.\")\n",
    ")\n",
    "\n",
    "connection = sqlite3.connect('data.db')\n",
    "\n",
    "api.activate_ca(\n",
    "    ca_path=config['caPath'],\n",
    "    ca_passwd=config['caPassword'],\n",
    "    person_id=config['account'],\n",
    ")"
   ]
  },
  {
   "cell_type": "code",
   "execution_count": 3,
   "metadata": {},
   "outputs": [],
   "source": [
    "ticks = {}\n",
    "kbars = {}\n",
    "volume_today = {}\n",
    "\n",
    "open_orders = {}\n",
    "order_qty = {}\n",
    "positions = {}\n",
    "\n",
    "workers = {}\n",
    "stop_threads = False\n",
    "\n",
    "@api.quote.on_quote\n",
    "def quote_callback(topic: str, quote: dict):\n",
    "    \n",
    "    code = topic.split('/')[-1]\n",
    "    \n",
    "    ts = pd.to_datetime(quote.get('Date') + ' ' + quote.get('Time'))\n",
    "    \n",
    "    if ts.hour < 9:\n",
    "        return \n",
    "    \n",
    "    close = quote.get('Close')[0]\n",
    "    volume = quote.get('Volume')[0]\n",
    "    vol_sum = quote.get('VolSum')[0]\n",
    "    \n",
    "    ticks[code].loc[ts] = [close, volume]\n",
    "    volume_today[code] = vol_sum\n",
    "    \n",
    "    \n",
    "def place_cb(stat, msg):\n",
    "    \n",
    "    if stat.value == 'TFTDEAL':\n",
    "\n",
    "        code = msg['code']\n",
    "        qty = int(msg['quantity'])\n",
    "\n",
    "        order_qty[code] -= qty\n",
    "        \n",
    "        if order_qty[code] == 0:\n",
    "            open_orders[code] = None\n",
    "        \n",
    "        position = positions.get(code, 0)\n",
    "        \n",
    "        if msg['action'] == 'Sell':\n",
    "            qty = qty * -1\n",
    "            \n",
    "        position += qty\n",
    "        \n",
    "        positions[code] = position \n",
    "\n",
    "api.set_order_callback(place_cb)"
   ]
  },
  {
   "cell_type": "code",
   "execution_count": 4,
   "metadata": {},
   "outputs": [],
   "source": [
    "import time\n",
    "\n",
    "def tbot(code):\n",
    "\n",
    "    print('=== 啟動 tbot #{} ==='.format(code))\n",
    "    \n",
    "    tw_calendar = get_calendar('XTAI')\n",
    "    \n",
    "    date = pd.to_datetime(datetime.datetime.now().date())\n",
    "    prev_trading_date = tw_calendar.previous_close(date).date()\n",
    "    \n",
    "    if date not in tw_calendar.opens:\n",
    "        print('今日非交易日')\n",
    "        return \n",
    "\n",
    "    ticks[code] = get_ticks(code, prev_trading_date, connection, api)[0].append(get_ticks(code, date, connection, api)[0])\n",
    "    ticks[code] = ticks[code][['close', 'volume']]\n",
    "    kbars[code] = get_technical_indicator(ticks_to_kbars(ticks[code], interval='5Min'))\n",
    "    kbars[code] = kbars[code][date:]\n",
    "    volume_today[code] = kbars[code]['volume'].sum()\n",
    "    entry_price = -1\n",
    "    open_price = -1\n",
    "    close_position = False\n",
    "    api.quote.subscribe(api.Contracts.Stocks[code], quote_type='tick')\n",
    "    \n",
    "    while True:\n",
    "\n",
    "        if stop_threads:\n",
    "            break\n",
    "           \n",
    "        time.sleep(1)\n",
    "        \n",
    "        current_time = datetime.datetime.now()\n",
    "        \n",
    "        if current_time.second == 0:\n",
    "\n",
    "            kbars[code] = get_technical_indicator(ticks_to_kbars(ticks[code], interval='5Min'))\n",
    "            kbars[code] = kbars[code][date:]\n",
    "            \n",
    "            str_current_time = (current_time - datetime.timedelta(minutes=5)).strftime('%Y-%m-%d %H:%M:%S')\n",
    "            str_open_time = current_time.replace(hour=9, minute=0, second=0).strftime('%Y-%m-%d %H:%M:%S')\n",
    "            try:\n",
    "                current_price = kbars[code].loc[str_current_time]['close']\n",
    "                if open_price == -1:\n",
    "                    open_price = kbars[code].loc[str_open_time]['open']\n",
    "                    # 開盤太高，不沖\n",
    "                    if open_price * 1.04 <= kbars[code].loc[str_open_time]['close']:\n",
    "                        break\n",
    "            except:\n",
    "                continue\n",
    " \n",
    "            open_order = open_orders.get(code, None)\n",
    "            \n",
    "            if open_order:\n",
    "                \n",
    "                api.update_status(api.stock_account)\n",
    "                \n",
    "                if open_order.status.status in ['PendingSubmit', 'Submitted', 'Filling']:\n",
    "                    if current_time > current_time.replace(hour=10, minute=30, second=0) and open_order.order.action == 'Buy':\n",
    "                        api.cancel_order(open_order)\n",
    "                        open_orders[code] = None\n",
    "                        order_qty[code] = 0\n",
    "                        if open_order.status.status != 'Filling':\n",
    "                            break\n",
    "                    elif current_time >= current_time.replace(hour=13, minute=20, second=0) and open_order.order.action == 'Sell':\n",
    "                        api.cancel_order(open_order)\n",
    "                        open_orders[code] = None\n",
    "                        order_qty[code] = 0\n",
    "#                         if open_order.status.status != 'Filling':\n",
    "#                             break                                        \n",
    "            position = positions.get(code, 0)\n",
    "            \n",
    "            if (\n",
    "                position == 0 and not close_position and\n",
    "                current_time <= current_time.replace(hour=10, minute=30, second=0) and\n",
    "                kbars[code].loc[str_current_time]['cci'] < -100 and\n",
    "                kbars[code].loc[str_current_time]['slowk'] < 30 and\n",
    "                kbars[code].loc[str_current_time]['rsi'] < 30\n",
    "            ):\n",
    "                if current_price < 20:\n",
    "                    qty = 10\n",
    "                else:\n",
    "                    qty = 1\n",
    "                    \n",
    "                contract = api.Contracts.Stocks[code]\n",
    "                order = api.Order(\n",
    "                    price=current_price,\n",
    "                    quantity=qty,\n",
    "                    action=\"Buy\",\n",
    "                    price_type=\"LMT\",\n",
    "                    order_type=\"ROD\",\n",
    "                    account=api.stock_account\n",
    "                )\n",
    "                    \n",
    "                trade = api.place_order(contract, order)\n",
    "\n",
    "                open_orders[code] = trade\n",
    "                order_qty[code] = qty\n",
    "\n",
    "                entry_price = current_price\n",
    "                print('[{}] 委託買進 {} 價格 {}'.format(str_current_time, code, current_price))\n",
    "                \n",
    "            elif (\n",
    "                position != 0 and not close_position and\n",
    "                ((current_price >= entry_price * 1.03) or\n",
    "                (current_price <= entry_price * 0.98) or\n",
    "                (current_price > entry_price and kbars[code].loc[str_current_time]['slowk'] > 70) or\n",
    "                (current_price > entry_price and kbars[code].loc[str_current_time]['rsi'] > 70) or\n",
    "                (current_price >= entry_price * 1.01 and kbars[code].loc[str_current_time]['cci'] < -60) or \n",
    "                (current_price > entry_price and kbars[code].loc[str_current_time]['cci'] > 200) or\n",
    "                (current_price > entry_price and kbars[code].loc[str_current_time]['upper'] < current_price)) \n",
    "            ):\n",
    "                \n",
    "                contract = api.Contracts.Stocks[code]\n",
    "                order = api.Order(\n",
    "                    price=current_price,\n",
    "                    quantity=position,\n",
    "                    action=\"Sell\",\n",
    "                    price_type=\"LMT\",\n",
    "                    order_type=\"ROD\",\n",
    "                    account=api.stock_account\n",
    "                )\n",
    "                        \n",
    "                trade = api.place_order(contract, order)\n",
    "                \n",
    "                close_position = True\n",
    "                open_orders[code] = trade\n",
    "                order_qty[code] = position\n",
    "                        \n",
    "                print('[{}] 委託賣出 {} 價格 {}'.format(str_current_time, code, current_price))\n",
    "                    \n",
    "            elif (\n",
    "                current_time >= current_time.replace(hour=13, minute=20, second=0)\n",
    "            ):\n",
    "                if position != 0:\n",
    "                    \n",
    "                    contract = api.Contracts.Stocks[code]\n",
    "                    order = api.Order(\n",
    "                        price=0,\n",
    "                        quantity=position,\n",
    "                        action=\"Sell\",\n",
    "                        price_type=\"MKT\",\n",
    "                        order_type=\"ROD\",\n",
    "                        account=api.stock_account\n",
    "                    )\n",
    "\n",
    "                    trade = api.place_order(contract, order)\n",
    "                    close_position = True\n",
    "                    open_orders[code] = trade\n",
    "                    order_qty[code] = position\n",
    "\n",
    "                    print('[{}] 委託市價賣出 {} 市價 {}'.format(str_current_time, code, current_price))\n",
    "                else:\n",
    "                    break\n",
    "\n",
    "                \n",
    "    api.quote.unsubscribe(api.Contracts.Stocks[code], quote_type='tick')\n",
    "    \n",
    "    print('=== 關閉 tbot #{} ==='.format(code))\n"
   ]
  },
  {
   "cell_type": "code",
   "execution_count": 5,
   "metadata": {},
   "outputs": [],
   "source": [
    "import threading\n",
    "\n",
    "def run():\n",
    "    \n",
    "    date = pd.to_datetime(datetime.datetime.now().date())\n",
    "    \n",
    "    codes = get_stocks(date, connection)    \n",
    "    day_trading_codes = [code for code in codes if get_stock(code, connection, api)[0].iloc[0]['day_trade'] == 'Yes']\n",
    "\n",
    "    print('今日當沖標的：{}'.format(day_trading_codes))\n",
    "    \n",
    "    for code in day_trading_codes:\n",
    "        \n",
    "        worker = threading.Thread(name=code, target=tbot, args=(code,))\n",
    "        worker.start()\n",
    "        workers[code] = worker"
   ]
  },
  {
   "cell_type": "code",
   "execution_count": 6,
   "metadata": {
    "scrolled": true
   },
   "outputs": [
    {
     "name": "stdout",
     "output_type": "stream",
     "text": [
      "<SecurityType.Future: 'FUT'> fetch done.\n",
      "正在更新每日收盤行情...\n",
      "<SecurityType.Stock: 'STK'> fetch done.\n",
      "<SecurityType.Option: 'OPT'> fetch done.\n",
      "20210428 找不到資料\n",
      "正在篩選每日當沖標的...\n",
      "正在更新股票資訊...\n",
      "正在更新逐筆成交資料...\n",
      "股市資料庫更新完成\n"
     ]
    }
   ],
   "source": [
    "update_historial_data('2021/4/28', '2021/4/28', connection, api)"
   ]
  },
  {
   "cell_type": "code",
   "execution_count": 7,
   "metadata": {},
   "outputs": [
    {
     "name": "stdout",
     "output_type": "stream",
     "text": [
      "今日當沖標的：['1718', '3037', '6226']\n",
      "=== 啟動 tbot #1718 ===\n",
      "=== 啟動 tbot #3037 ===\n",
      "=== 啟動 tbot #6226 ===\n"
     ]
    }
   ],
   "source": [
    "run()"
   ]
  },
  {
   "cell_type": "code",
   "execution_count": 8,
   "metadata": {},
   "outputs": [
    {
     "data": {
      "text/plain": [
       "{'1718': <Thread(1718, started 5968)>,\n",
       " '3037': <Thread(3037, started 31724)>,\n",
       " '6226': <Thread(6226, started 24412)>}"
      ]
     },
     "execution_count": 8,
     "metadata": {},
     "output_type": "execute_result"
    }
   ],
   "source": [
    "workers"
   ]
  },
  {
   "cell_type": "code",
   "execution_count": 9,
   "metadata": {
    "scrolled": true
   },
   "outputs": [
    {
     "data": {
      "text/plain": [
       "{}"
      ]
     },
     "execution_count": 9,
     "metadata": {},
     "output_type": "execute_result"
    }
   ],
   "source": [
    "# ticks\n",
    "kbars\n",
    "# volume_today"
   ]
  },
  {
   "cell_type": "code",
   "execution_count": 10,
   "metadata": {},
   "outputs": [
    {
     "name": "stdout",
     "output_type": "stream",
     "text": [
      "=== 關閉 tbot #3037 ===\n",
      "Response Code: 200 | Event Code: 16 | Info: MKT/*/TSE/3037 | Event: Subscribe or Unsubscribe ok\n",
      "Response Code: 200 | Event Code: 16 | Info: MKT/*/TSE/3037 | Event: Subscribe or Unsubscribe ok\n",
      "=== 關閉 tbot #6226 ===\n",
      "Response Code: 200 | Event Code: 16 | Info: MKT/*/TSE/6226 | Event: Subscribe or Unsubscribe ok\n",
      "Response Code: 200 | Event Code: 16 | Info: MKT/*/TSE/6226 | Event: Subscribe or Unsubscribe ok\n",
      "=== 關閉 tbot #1718 ===\n",
      "Response Code: 200 | Event Code: 16 | Info: MKT/*/TSE/1718 | Event: Subscribe or Unsubscribe ok\n",
      "Response Code: 200 | Event Code: 16 | Info: MKT/*/TSE/1718 | Event: Subscribe or Unsubscribe ok\n",
      "Response Code: 0 | Event Code: 12 | Info: solClientOS.c:5777                   (00007cc8) TCP: Could not read from socket 2768, error = Connection reset by peer (10054) | Event: Session reconnecting\n",
      "Response Code: 0 | Event Code: 13 | Info: host '203.66.91.161:80', hostname '203.66.91.161:80' IP 203.66.91.161:80 (host 1 of 1) (host connection attempt 1 of 1) (total reconnection attempt 3 of 3) | Event: Session reconnected\n",
      "Response Code: 0 | Event Code: 12 | Info: solClientOS.c:5777                   (00007cc8) TCP: Could not read from socket 2940, error = Connection reset by peer (10054) | Event: Session reconnecting\n",
      "Response Code: 0 | Event Code: 1 | Info: solClientOS.c:4220                   (00007cc8) TCP connection failure for fd 2940, error = No route to host (10065) | Event: Session down\n"
     ]
    }
   ],
   "source": [
    "stop_threads = True"
   ]
  }
 ],
 "metadata": {
  "kernelspec": {
   "display_name": "Python 3",
   "language": "python",
   "name": "python3"
  },
  "language_info": {
   "codemirror_mode": {
    "name": "ipython",
    "version": 3
   },
   "file_extension": ".py",
   "mimetype": "text/x-python",
   "name": "python",
   "nbconvert_exporter": "python",
   "pygments_lexer": "ipython3",
   "version": "3.8.5"
  }
 },
 "nbformat": 4,
 "nbformat_minor": 4
}
