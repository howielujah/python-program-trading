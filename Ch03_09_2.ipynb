{
 "cells": [
  {
   "cell_type": "code",
   "execution_count": 1,
   "metadata": {},
   "outputs": [
    {
     "name": "stderr",
     "output_type": "stream",
     "text": [
      "/opt/anaconda3/lib/python3.8/site-packages/shioaji/__init__.py:20: Warning: Mac OS currently don't provide ca module all function about placing order is not working.\n",
      "  warnings.warn(\"Mac OS currently don't provide ca module all function about placing order is not working.\", Warning)\n"
     ]
    }
   ],
   "source": [
    "from database import *\n",
    "\n",
    "def ticks_to_kbars(ticks, interval='5Min'):\n",
    "\n",
    "    kbars = pd.DataFrame()\n",
    "    \n",
    "    kbars['open'] = ticks['close'].resample(interval).first()\n",
    "    kbars['close'] = ticks['close'].resample(interval).last()\n",
    "    kbars['high'] = ticks['close'].resample(interval).max()\n",
    "    kbars['low'] = ticks['close'].resample(interval).min()\n",
    "    kbars['volume'] = ticks['volume'].resample(interval).sum()\n",
    "    \n",
    "    kbars.dropna(inplace=True)\n",
    "    \n",
    "    return kbars"
   ]
  },
  {
   "cell_type": "code",
   "execution_count": 2,
   "metadata": {},
   "outputs": [],
   "source": [
    "import talib\n",
    "\n",
    "def get_technical_indicator(kbars):\n",
    "    \n",
    "    kbars['rsi'] = talib.RSI(kbars.close, timeperiod=14)\n",
    "    kbars['cci'] = talib.CCI(kbars.high, kbars.low, kbars.close, timeperiod=14)\n",
    "    \n",
    "    macd, macdsignal, macdhist = talib.MACD(kbars.close, fastperiod=5, slowperiod=34, signalperiod=5)\n",
    "    \n",
    "    kbars['macd'] = macd\n",
    "    kbars['macdsignal'] = macdsignal\n",
    "    kbars['macdhist'] = macdhist\n",
    "    \n",
    "        \n",
    "    kbars['slowk'], kbars['slowd'] = talib.STOCH(kbars.high,\n",
    "                        kbars.low,\n",
    "                        kbars.close,\n",
    "                        fastk_period=9,\n",
    "                        slowk_period=3,\n",
    "                        slowk_matype=0,\n",
    "                        slowd_period=3,\n",
    "                        slowd_matype=0)\n",
    "\n",
    "    upper, middle, lower = talib.BBANDS(kbars.close, \n",
    "                                        timeperiod=20, \n",
    "                                        nbdevup=2.1, \n",
    "                                        nbdevdn=2.1, \n",
    "                                        # Moving average type: simple moving average here\n",
    "                                        matype=0)\n",
    "    kbars['upper'] = upper\n",
    "    kbars['middle'] = middle\n",
    "    kbars['lower'] = lower\n",
    "    \n",
    "    return kbars"
   ]
  },
  {
   "cell_type": "code",
   "execution_count": 3,
   "metadata": {},
   "outputs": [],
   "source": [
    "def day_trading_backtest(code, date, connection, api):\n",
    "    \n",
    "    tw_calendar = get_calendar('XTAI')\n",
    "    prev_trading_date = tw_calendar.previous_close(date).date()\n",
    "    \n",
    "    ticks = get_ticks(code, prev_trading_date, connection, api)[0].append(get_ticks(code, date, connection, api)[0])\n",
    "    kbars = ticks_to_kbars(ticks, '5Min')\n",
    "    if kbars.empty:\n",
    "        return pd.DataFrame()\n",
    "    kbars = get_technical_indicator(kbars)\n",
    "    prev_close_price = kbars['close'].get(pd.to_datetime(prev_trading_date).replace(hour=13, minute=30))\n",
    "    kbars = kbars[date:]\n",
    "    \n",
    "    entry_price = 0\n",
    "    entry_time = None\n",
    "    \n",
    "    exit_price = 0\n",
    "    exit_time = None\n",
    "    \n",
    "    position = 0\n",
    "    open_price = 0\n",
    "            \n",
    "    for ts in range(len(kbars)):\n",
    "#         current_time = kbars.iloc[ts].name + pd.Timedelta(minutes=5)\n",
    "        current_time = kbars.iloc[ts].name\n",
    "        current_price = kbars['open'][ts]\n",
    "        if ts == 0: \n",
    "            open_price = kbars['open'][ts]\n",
    "            continue\n",
    "        if ts ==1:\n",
    "            if(kbars['close'][0] >= open_price * 1.04):\n",
    "                break\n",
    "#             continue\n",
    "        \n",
    "        if (\n",
    "            position == 0 and\n",
    "            current_time <= date.replace(hour=10, minute=30, second=0) and\n",
    "            kbars.iloc[ts-1]['cci'] < -100 and\n",
    "            kbars.iloc[ts-1]['slowk'] < 30 and\n",
    "            kbars.iloc[ts-1]['rsi'] < 30\n",
    "        ):\n",
    "            if current_price < 20:\n",
    "                position = 20\n",
    "            else:\n",
    "                position = 2          \n",
    "            entry_price = current_price\n",
    "            entry_time = current_time.time()\n",
    "\n",
    "            print('[{}] buy {} at {}'.format(current_time, code, current_price))\n",
    "        \n",
    "        elif (\n",
    "            position != 0 and\n",
    "            ((current_price >= entry_price * 1.03) or\n",
    "            (current_price <= entry_price * 0.98) or\n",
    "            (current_price > entry_price and kbars.iloc[ts-1]['slowk'] > 70) or\n",
    "            (current_price > entry_price and kbars.iloc[ts-1]['rsi'] > 70) or\n",
    "            (current_price >= entry_price * 1.01 and kbars.iloc[ts-1]['cci'] < -60) or\n",
    "            (current_price > entry_price and kbars.iloc[ts-1]['cci'] > 200) or\n",
    "            (current_price > entry_price and kbars.iloc[ts-1]['upper'] < current_price))\n",
    "        ):\n",
    "            exit_price = current_price\n",
    "            exit_time = current_time.time()\n",
    "            print('[{}] sell {} at {}'.format(current_time, code, current_price))\n",
    "            \n",
    "            break\n",
    "            \n",
    "        elif (\n",
    "            current_time >= date.replace(hour=13, minute=20, second=0) and\n",
    "            position != 0\n",
    "        ):\n",
    "            \n",
    "            exit_price = current_price\n",
    "            exit_time = current_time.time()\n",
    "            \n",
    "            print('[{}] sell {} at {}'.format(current_time, code, current_price))\n",
    "            \n",
    "            break\n",
    "            \n",
    "    if entry_time and exit_time:\n",
    "        transaction = pd.DataFrame([[date, \n",
    "                                     code, \n",
    "                                     entry_time,\n",
    "                                     entry_price, \n",
    "                                     position * 1000,\n",
    "                                     entry_price * position * 1000,\n",
    "                                     exit_time,\n",
    "                                     exit_price,\n",
    "                                     position * 1000,\n",
    "                                     exit_price * position * 1000]\n",
    "                                   ],\n",
    "                                    columns=[\n",
    "                                        '成交日期', \n",
    "                                        '股票代號',\n",
    "                                        '買進時間',\n",
    "                                        '買進價格',\n",
    "                                        '買進股數',\n",
    "                                        '買進金額',\n",
    "                                        '賣出時間',\n",
    "                                        '賣出價格',\n",
    "                                        '賣出股數',\n",
    "                                        '賣出金額'])\n",
    "        return transaction\n",
    "    else:\n",
    "        return pd.DataFrame()"
   ]
  },
  {
   "cell_type": "code",
   "execution_count": 4,
   "metadata": {},
   "outputs": [
    {
     "name": "stdout",
     "output_type": "stream",
     "text": [
      "Response Code: 0 | Event Code: 0 | Info: host '203.66.91.161:80', hostname '203.66.91.161:80' IP 203.66.91.161:80 (host 1 of 1) (host connection attempt 1 of 1) (total connection attempt 1 of 1) | Event: Session up\n",
      "<SecurityType.Index: 'IND'> fetch done.\n"
     ]
    }
   ],
   "source": [
    "import json\n",
    "\n",
    "with open('config.json') as f:\n",
    "  config = json.load(f)\n",
    "\n",
    "api = sj.Shioaji()\n",
    "api.login(\n",
    "    person_id = config['account'],\n",
    "    passwd= config['password'],\n",
    "    contracts_cb=lambda security_type: print(f\"{repr(security_type)} fetch done.\"))\n",
    "\n",
    "# api.logout()\n",
    "\n",
    "connection = sqlite3.connect('data.db')"
   ]
  },
  {
   "cell_type": "code",
   "execution_count": 5,
   "metadata": {},
   "outputs": [],
   "source": [
    "def get_trading_codes(codes, connection, api):\n",
    "    trading_codes = []\n",
    "    for code in codes:\n",
    "        stock = get_stock(code, connection, api)\n",
    "        if not stock[0].empty and stock[0].iloc[0]['day_trade'] == 'Yes':\n",
    "            trading_codes.append(code)\n",
    "    return trading_codes"
   ]
  },
  {
   "cell_type": "code",
   "execution_count": 6,
   "metadata": {},
   "outputs": [],
   "source": [
    "def backtest(start_date, end_date, connection, api, discount=0.38):\n",
    "    \n",
    "    tw_calendar = get_calendar('XTAI')\n",
    "    \n",
    "    transactions = pd.DataFrame()\n",
    "    update_daily_prices(start_date, end_date, connection)\n",
    "    for date in pd.date_range(start_date, end_date):\n",
    "\n",
    "        if date not in tw_calendar.opens:\n",
    "            continue\n",
    "        \n",
    "        codes = get_stocks(date, connection)\n",
    "\n",
    "#         day_trading_codes = [code for code in codes if get_stock(code, connection, api)[0].iloc[0]['day_trade'] == 'Yes']\n",
    "        day_trading_codes = get_trading_codes(codes, connection, api)\n",
    "        for code in day_trading_codes:\n",
    "            \n",
    "            transaction = day_trading_backtest(code, pd.to_datetime(date), connection, api)\n",
    "            \n",
    "            if not transaction.empty:\n",
    "                transactions = transactions.append(transaction)\n",
    "                \n",
    "    if not transactions.empty:\n",
    "\n",
    "        transactions['買進手續費'] = transactions['買進金額'] * 0.001425 * discount\n",
    "        transactions['買進手續費'] = transactions['買進手續費'].apply(lambda fee : fee if fee > 20 else 20)\n",
    "        transactions['買進手續費'] = transactions['買進手續費'].astype(int)\n",
    "\n",
    "        transactions['賣出手續費'] = transactions['賣出金額'] * 0.001425 * discount\n",
    "        transactions['賣出手續費'] = transactions['賣出手續費'].apply(lambda fee : fee if fee > 20 else 20)\n",
    "        transactions['賣出手續費'] = transactions['賣出手續費'].astype(int)\n",
    "\n",
    "        transactions['交易稅'] = transactions['賣出金額'] * 0.0015\n",
    "        transactions['交易稅'] = transactions['交易稅'].astype(int)\n",
    "\n",
    "        transactions['損益'] = (transactions['賣出金額'] - transactions['買進金額']) - (transactions['買進手續費'] + transactions['賣出手續費'] + transactions['交易稅'])\n",
    "\n",
    "        transactions = transactions.set_index(['成交日期'])\n",
    "        \n",
    "    return transactions"
   ]
  },
  {
   "cell_type": "code",
   "execution_count": null,
   "metadata": {},
   "outputs": [
    {
     "name": "stdout",
     "output_type": "stream",
     "text": [
      "20210209 找不到資料\n",
      "20210402 找不到資料\n",
      "[2021-01-04 09:10:00] buy 1718 at 10.85\n",
      "[2021-01-04 10:15:00] sell 1718 at 10.9\n",
      "[2021-01-06 09:35:00] buy 1447 at 9.72\n",
      "[2021-01-06 10:45:00] sell 1447 at 9.45\n",
      "[2021-01-06 09:40:00] buy 1718 at 10.45\n",
      "[2021-01-06 09:45:00] sell 1718 at 10.6\n",
      "[2021-01-08 10:00:00] buy 9958 at 109.0\n",
      "[2021-01-08 10:50:00] sell 9958 at 110.0\n",
      "[2021-01-11 09:10:00] buy 9958 at 107.0\n",
      "[2021-01-11 13:20:00] sell 9958 at 106.0\n",
      "[2021-01-12 09:05:00] buy 1597 at 99.3\n",
      "[2021-01-12 10:40:00] sell 1597 at 99.4\n",
      "[2021-01-12 09:20:00] buy 2456 at 110.0\n",
      "[2021-01-12 13:20:00] sell 2456 at 108.5\n",
      "[2021-01-15 09:10:00] buy 4119 at 100.0\n",
      "[2021-01-15 09:15:00] sell 4119 at 103.0\n",
      "[2021-01-15 09:50:00] buy 6226 at 10.55\n",
      "[2021-01-15 10:15:00] sell 6226 at 10.7\n",
      "[2021-01-18 09:20:00] buy 3037 at 96.0\n",
      "[2021-01-18 11:35:00] sell 3037 at 96.2\n",
      "[2021-01-18 09:20:00] buy 4119 at 95.1\n",
      "[2021-01-18 10:05:00] sell 4119 at 97.1\n",
      "[2021-01-20 09:20:00] buy 3545 at 104.5\n",
      "[2021-01-20 09:30:00] sell 3545 at 98.6\n",
      "[2021-01-20 09:35:00] buy 4960 at 10.8\n",
      "[2021-01-20 11:10:00] sell 4960 at 10.55\n",
      "[2021-01-20 09:25:00] buy 9958 at 101.5\n",
      "[2021-01-20 13:20:00] sell 9958 at 100.5\n",
      "[2021-01-26 09:15:00] buy 9958 at 107.5\n",
      "[2021-01-26 10:55:00] sell 9958 at 108.0\n",
      "[2021-01-28 09:05:00] buy 9802 at 111.5\n",
      "[2021-01-28 10:00:00] sell 9802 at 112.0\n",
      "[2021-01-29 10:30:00] buy 1524 at 10.9\n",
      "[2021-01-29 13:20:00] sell 1524 at 10.75\n",
      "[2021-02-01 09:05:00] buy 1597 at 107.5\n",
      "[2021-02-01 09:10:00] sell 1597 at 109.0\n",
      "[2021-02-24 09:35:00] buy 1455 at 10.45\n",
      "[2021-02-24 13:20:00] sell 1455 at 10.3\n",
      "[2021-02-26 09:05:00] buy 3545 at 98.6\n",
      "[2021-02-26 09:20:00] sell 3545 at 99.9\n",
      "[2021-02-26 09:05:00] buy 4976 at 104.5\n",
      "[2021-02-26 09:10:00] sell 4976 at 107.0\n",
      "[2021-03-22 09:05:00] buy 4976 at 112.0\n",
      "[2021-03-22 09:20:00] sell 4976 at 109.5\n",
      "[2021-03-23 09:40:00] buy 2348 at 103.5\n",
      "[2021-03-23 10:30:00] sell 2348 at 105.5\n",
      "[2021-03-31 10:25:00] buy 4976 at 105.0\n",
      "[2021-03-31 12:00:00] sell 4976 at 106.0\n",
      "[2021-04-07 09:45:00] buy 5471 at 111.0\n",
      "[2021-04-07 10:40:00] sell 5471 at 112.0\n",
      "[2021-04-09 09:15:00] buy 6239 at 110.5\n",
      "[2021-04-09 12:05:00] sell 6239 at 111.0\n",
      "[2021-04-12 09:15:00] buy 1515 at 99.5\n",
      "[2021-04-12 09:20:00] sell 1515 at 101.0\n",
      "[2021-04-12 10:30:00] buy 3189 at 110.5\n",
      "[2021-04-12 11:25:00] sell 3189 at 111.0\n",
      "[2021-04-12 09:50:00] buy 5471 at 111.5\n",
      "[2021-04-12 10:40:00] sell 5471 at 108.5\n"
     ]
    }
   ],
   "source": [
    "transactions = backtest('2021/1/1', '2021/4/28', connection, api)\n",
    "transactions "
   ]
  },
  {
   "cell_type": "code",
   "execution_count": 8,
   "metadata": {
    "scrolled": true
   },
   "outputs": [
    {
     "data": {
      "text/html": [
       "<div>\n",
       "<style scoped>\n",
       "    .dataframe tbody tr th:only-of-type {\n",
       "        vertical-align: middle;\n",
       "    }\n",
       "\n",
       "    .dataframe tbody tr th {\n",
       "        vertical-align: top;\n",
       "    }\n",
       "\n",
       "    .dataframe thead th {\n",
       "        text-align: right;\n",
       "    }\n",
       "</style>\n",
       "<table border=\"1\" class=\"dataframe\">\n",
       "  <thead>\n",
       "    <tr style=\"text-align: right;\">\n",
       "      <th></th>\n",
       "      <th>買進金額</th>\n",
       "      <th>買進手續費</th>\n",
       "      <th>賣出金額</th>\n",
       "      <th>賣出手續費</th>\n",
       "      <th>交易稅</th>\n",
       "      <th>損益</th>\n",
       "      <th>交易次數</th>\n",
       "    </tr>\n",
       "    <tr>\n",
       "      <th>成交日期</th>\n",
       "      <th></th>\n",
       "      <th></th>\n",
       "      <th></th>\n",
       "      <th></th>\n",
       "      <th></th>\n",
       "      <th></th>\n",
       "      <th></th>\n",
       "    </tr>\n",
       "  </thead>\n",
       "  <tbody>\n",
       "    <tr>\n",
       "      <th>2021-04-28</th>\n",
       "      <td>205000.0</td>\n",
       "      <td>111</td>\n",
       "      <td>209000.0</td>\n",
       "      <td>113</td>\n",
       "      <td>313</td>\n",
       "      <td>3463.0</td>\n",
       "      <td>1</td>\n",
       "    </tr>\n",
       "  </tbody>\n",
       "</table>\n",
       "</div>"
      ],
      "text/plain": [
       "                買進金額  買進手續費      賣出金額  賣出手續費  交易稅      損益  交易次數\n",
       "成交日期                                                           \n",
       "2021-04-28  205000.0    111  209000.0    113  313  3463.0     1"
      ]
     },
     "execution_count": 8,
     "metadata": {},
     "output_type": "execute_result"
    }
   ],
   "source": [
    "daily_profit_loss = transactions.resample('D').sum()\n",
    "daily_profit_loss['交易次數'] = transactions.groupby('成交日期').size()\n",
    "daily_profit_loss = daily_profit_loss[['買進金額', '買進手續費', '賣出金額', '賣出手續費', '交易稅', '損益', '交易次數']]\n",
    "daily_profit_loss.dropna(inplace=True) \n",
    "\n",
    "daily_profit_loss"
   ]
  },
  {
   "cell_type": "code",
   "execution_count": 9,
   "metadata": {},
   "outputs": [
    {
     "data": {
      "text/html": [
       "<div>\n",
       "<style scoped>\n",
       "    .dataframe tbody tr th:only-of-type {\n",
       "        vertical-align: middle;\n",
       "    }\n",
       "\n",
       "    .dataframe tbody tr th {\n",
       "        vertical-align: top;\n",
       "    }\n",
       "\n",
       "    .dataframe thead th {\n",
       "        text-align: right;\n",
       "    }\n",
       "</style>\n",
       "<table border=\"1\" class=\"dataframe\">\n",
       "  <thead>\n",
       "    <tr style=\"text-align: right;\">\n",
       "      <th></th>\n",
       "      <th>買進金額</th>\n",
       "      <th>買進手續費</th>\n",
       "      <th>賣出金額</th>\n",
       "      <th>賣出手續費</th>\n",
       "      <th>交易稅</th>\n",
       "      <th>損益</th>\n",
       "      <th>交易次數</th>\n",
       "    </tr>\n",
       "    <tr>\n",
       "      <th>成交日期</th>\n",
       "      <th></th>\n",
       "      <th></th>\n",
       "      <th></th>\n",
       "      <th></th>\n",
       "      <th></th>\n",
       "      <th></th>\n",
       "      <th></th>\n",
       "    </tr>\n",
       "  </thead>\n",
       "  <tbody>\n",
       "    <tr>\n",
       "      <th>2021-04-30</th>\n",
       "      <td>205000.0</td>\n",
       "      <td>111</td>\n",
       "      <td>209000.0</td>\n",
       "      <td>113</td>\n",
       "      <td>313</td>\n",
       "      <td>3463.0</td>\n",
       "      <td>1</td>\n",
       "    </tr>\n",
       "  </tbody>\n",
       "</table>\n",
       "</div>"
      ],
      "text/plain": [
       "                買進金額  買進手續費      賣出金額  賣出手續費  交易稅      損益  交易次數\n",
       "成交日期                                                           \n",
       "2021-04-30  205000.0    111  209000.0    113  313  3463.0     1"
      ]
     },
     "execution_count": 9,
     "metadata": {},
     "output_type": "execute_result"
    }
   ],
   "source": [
    "monthly_profit_loss = daily_profit_loss.resample('M').sum()\n",
    "monthly_profit_loss "
   ]
  },
  {
   "cell_type": "code",
   "execution_count": 10,
   "metadata": {},
   "outputs": [
    {
     "data": {
      "text/plain": [
       "3463.0"
      ]
     },
     "execution_count": 10,
     "metadata": {},
     "output_type": "execute_result"
    }
   ],
   "source": [
    "# 總損益\n",
    "profit_loss = daily_profit_loss['損益'].sum()\n",
    "profit_loss"
   ]
  },
  {
   "cell_type": "code",
   "execution_count": 11,
   "metadata": {},
   "outputs": [
    {
     "data": {
      "text/plain": [
       "1.0"
      ]
     },
     "execution_count": 11,
     "metadata": {},
     "output_type": "execute_result"
    }
   ],
   "source": [
    "# 勝率\n",
    "win_rate = round(len(transactions[transactions['損益'] > 0]) / len(transactions), 3)\n",
    "win_rate"
   ]
  },
  {
   "cell_type": "code",
   "execution_count": 12,
   "metadata": {},
   "outputs": [
    {
     "name": "stdout",
     "output_type": "stream",
     "text": [
      "最大連續虧損 0\n"
     ]
    }
   ],
   "source": [
    "# 最大連續虧損\n",
    "con_loss = 0\n",
    "max_loss = 0\n",
    "\n",
    "for profit_loss in daily_profit_loss[\"損益\"]:\n",
    "    \n",
    "    if profit_loss < 0:\n",
    "        con_loss += profit_loss\n",
    "    else:\n",
    "        con_loss = 0\n",
    "        continue\n",
    "    \n",
    "    if con_loss < max_loss:\n",
    "        max_loss = con_loss\n",
    "        \n",
    "print('最大連續虧損', max_loss)"
   ]
  },
  {
   "cell_type": "code",
   "execution_count": 13,
   "metadata": {},
   "outputs": [
    {
     "name": "stderr",
     "output_type": "stream",
     "text": [
      "/opt/anaconda3/lib/python3.8/site-packages/pandas/plotting/_matplotlib/core.py:1136: UserWarning: Attempting to set identical left == right == 18745.0 results in singular transformations; automatically expanding.\n",
      "  ax.set_xlim(left, right)\n"
     ]
    },
    {
     "data": {
      "text/plain": [
       "[Text(0.5, 0, 'profit loss')]"
      ]
     },
     "execution_count": 13,
     "metadata": {},
     "output_type": "execute_result"
    },
    {
     "data": {
      "image/png": "[encoded data removed]",
      "text/plain": [
       "<Figure size 1080x576 with 1 Axes>"
      ]
     },
     "metadata": {
      "needs_background": "light"
     },
     "output_type": "display_data"
    }
   ],
   "source": [
    "daily_profit_loss['損益'].cumsum()\n",
    "daily_profit_loss['損益'].cumsum().plot(title='Backtest', figsize=(15, 8)).set(xlabel='profit loss')"
   ]
  }
 ],
 "metadata": {
  "kernelspec": {
   "display_name": "Python 3",
   "language": "python",
   "name": "python3"
  },
  "language_info": {
   "codemirror_mode": {
    "name": "ipython",
    "version": 3
   },
   "file_extension": ".py",
   "mimetype": "text/x-python",
   "name": "python",
   "nbconvert_exporter": "python",
   "pygments_lexer": "ipython3",
   "version": "3.8.5"
  }
 },
 "nbformat": 4,
 "nbformat_minor": 4
}
